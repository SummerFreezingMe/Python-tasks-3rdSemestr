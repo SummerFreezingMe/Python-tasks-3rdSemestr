{
 "cells": [
  {
   "cell_type": "markdown",
   "id": "300b684f",
   "metadata": {},
   "source": [
    "# Koch curve using jupyter and matplotlib\n"
   ]
  },
  {
   "cell_type": "markdown",
   "id": "842e0d59",
   "metadata": {},
   "source": [
    " Импортируем необходимы модули:"
   ]
  },
  {
   "cell_type": "code",
   "execution_count": null,
   "id": "c5b64a8b",
   "metadata": {},
   "outputs": [],
   "source": [
    "import matplotlib.pyplot as plt\n",
    "import numpy as np\n",
    "import point as p"
   ]
  },
  {
   "cell_type": "markdown",
   "id": "682ac854",
   "metadata": {},
   "source": [
    "Основная функция:\n",
    "n - глубина построенияя (если = 0, возвращаемся), \n",
    "p1 - стартовая точка, \n",
    "p2 - конечная точка, \n",
    "xx - массив значений x, \n",
    "yy - массив значений y"
   ]
  },
  {
   "cell_type": "code",
   "execution_count": null,
   "id": "d72df507",
   "metadata": {},
   "outputs": [],
   "source": [
    "def koch_curve(n, p1, p2, xx, yy):\n",
    "    if n == 0:\n",
    "        return"
   ]
  },
  {
   "cell_type": "markdown",
   "id": "fe02fc08",
   "metadata": {},
   "source": [
    "Задаём три фрактальные точки"
   ]
  },
  {
   "cell_type": "code",
   "execution_count": null,
   "id": "bba2e402",
   "metadata": {},
   "outputs": [],
   "source": [
    "theta = np.pi / 3\n",
    "    s = p.Point(p1.x + (p2.x - p1.x) / 3, p1.y + (p2.y - p1.y) / 3)\n",
    "    t = p.Point(p2.x - (p2.x - p1.x) / 3, p2.y - (p2.y - p1.y) / 3)\n",
    "    u = p.Point(np.cos(theta) * (t.x - s.x) - np.sin(theta) * (t.y - s.y) + s.x,\n",
    "                np.sin(theta) * (t.x - s.x) + np.cos(theta) * (t.y - s.y) + s.y)"
   ]
  },
  {
   "cell_type": "markdown",
   "id": "5a7f207f",
   "metadata": {},
   "source": [
    "Вызываем функцию рекурсивно с редуцированной глубиной для каждого подотрезка, сгенерированного новыми точками\n",
    "Добавляем точки в соответствующие массивы"
   ]
  },
  {
   "cell_type": "code",
   "execution_count": null,
   "id": "639f0591",
   "metadata": {},
   "outputs": [],
   "source": [
    " koch_curve(n - 1, p1, s, xx, yy)\n",
    "    xx.append(s.x)\n",
    "    yy.append(s.y)\n",
    "\n",
    "    koch_curve(n - 1, s, u, xx, yy)\n",
    "    xx.append(u.x)\n",
    "    yy.append(u.y)\n",
    "\n",
    "    koch_curve(n - 1, u, t, xx, yy)\n",
    "    xx.append(t.x)\n",
    "    yy.append(t.y)\n",
    "    koch_curve(n - 1, t, p2, xx, yy)"
   ]
  },
  {
   "cell_type": "markdown",
   "id": "0640640c",
   "metadata": {},
   "source": [
    "Функция возрв"
   ]
  }
 ],
 "metadata": {
  "kernelspec": {
   "display_name": "Python 3 (ipykernel)",
   "language": "python",
   "name": "python3"
  },
  "language_info": {
   "codemirror_mode": {
    "name": "ipython",
    "version": 3
   },
   "file_extension": ".py",
   "mimetype": "text/x-python",
   "name": "python",
   "nbconvert_exporter": "python",
   "pygments_lexer": "ipython3",
   "version": "3.9.7"
  }
 },
 "nbformat": 4,
 "nbformat_minor": 5
}
