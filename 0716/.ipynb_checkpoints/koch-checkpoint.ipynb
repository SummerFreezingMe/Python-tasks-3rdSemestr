{
 "cells": [
  {
   "cell_type": "markdown",
   "id": "a1fb88d3",
   "metadata": {},
   "source": [
    "# Koch curve using jupyter and matplotlib\n"
   ]
  },
  {
   "cell_type": "markdown",
   "id": "27e364ae",
   "metadata": {},
   "source": [
    " Импортируем необходимы модули:"
   ]
  },
  {
   "cell_type": "code",
   "execution_count": 1,
   "id": "02f69436",
   "metadata": {},
   "outputs": [],
   "source": [
    "import matplotlib.pyplot as plt\n",
    "import numpy as np\n",
    "import point as p"
   ]
  },
  {
   "cell_type": "markdown",
   "id": "7d15abf9",
   "metadata": {},
   "source": [
    "Основная функция:\n",
    "n - глубина построенияя (если = 0, возвращаемся), \n",
    "p1 - стартовая точка, \n",
    "p2 - конечная точка, \n",
    "xx - массив значений x, \n",
    "yy - массив значений y\n",
    "\n",
    "Задаём три фрактальные точки"
   ]
  },
  {
   "cell_type": "code",
   "execution_count": 2,
   "id": "b9ba951f",
   "metadata": {},
   "outputs": [],
   "source": [
    "def koch_curve(n, p1, p2, xx, yy):\n",
    "    if n == 0:\n",
    "        return\n",
    "    theta = np.pi / 3\n",
    "    s = p.Point(p1.x + (p2.x - p1.x) / 3, p1.y + (p2.y - p1.y) / 3)\n",
    "    t = p.Point(p2.x - (p2.x - p1.x) / 3, p2.y - (p2.y - p1.y) / 3)\n",
    "    u = p.Point(np.cos(theta) * (t.x - s.x) - np.sin(theta) * (t.y - s.y) + s.x,\n",
    "            np.sin(theta) * (t.x - s.x) + np.cos(theta) * (t.y - s.y) + s.y)\n",
    "    koch_curve(n - 1, p1, s, xx, yy)\n",
    "    xx.append(s.x)\n",
    "    yy.append(s.y)\n",
    "\n",
    "    koch_curve(n - 1, s, u, xx, yy)\n",
    "    xx.append(u.x)\n",
    "    yy.append(u.y)\n",
    "\n",
    "    koch_curve(n - 1, u, t, xx, yy)\n",
    "    xx.append(t.x)\n",
    "    yy.append(t.y)\n",
    "    koch_curve(n - 1, t, p2, xx, yy)\n",
    "    return xx, yy"
   ]
  },
  {
   "cell_type": "markdown",
   "id": "85fea997",
   "metadata": {},
   "source": [
    "Задаём начальные условия (точку старта, точку финиша, глубину рекурсии)\n",
    "\n",
    "Инициализируем массивы x и y координат, добавляем в них точку старта\n",
    "\n",
    "Выполнение основной функции\n",
    "\n",
    "Отрисовка графика по найдённым точкам"
   ]
  },
  {
   "cell_type": "code",
   "execution_count": 3,
   "id": "4d62fc1c",
   "metadata": {},
   "outputs": [
    {
     "data": {
      "image/png": "[encoded data removed]",
      "text/plain": [
       "<Figure size 432x288 with 1 Axes>"
      ]
     },
     "metadata": {
      "needs_background": "light"
     },
     "output_type": "display_data"
    }
   ],
   "source": [
    "if __name__ == '__main__':\n",
    "    start, end = p.Point(0, 0), p.Point(100, 0)\n",
    "    n = int(4)\n",
    "    x_points = []\n",
    "    y_points = []\n",
    "    x_points.append(start.x)\n",
    "    y_points.append(start.y)\n",
    "    nxx, nyy = koch_curve(n, start, end, x_points, y_points)\n",
    "    nxx.append(end.x)\n",
    "    nyy.append(end.y)\n",
    "    ax = plt.subplot(111)\n",
    "    ax.set(xlim=[0, 100], ylim=[0, 80])\n",
    "    plot_dictionary = {'dx': nxx, 'dy': nyy}\n",
    "    ax.plot('dx', 'dy','#eb52d1', data=plot_dictionary)\n",
    "    ax.set_facecolor('#f0e1ed')\n",
    "    plt.show()"
   ]
  }
 ],
 "metadata": {
  "kernelspec": {
   "display_name": "Python 3 (ipykernel)",
   "language": "python",
   "name": "python3"
  },
  "language_info": {
   "codemirror_mode": {
    "name": "ipython",
    "version": 3
   },
   "file_extension": ".py",
   "mimetype": "text/x-python",
   "name": "python",
   "nbconvert_exporter": "python",
   "pygments_lexer": "ipython3",
   "version": "3.9.7"
  }
 },
 "nbformat": 4,
 "nbformat_minor": 5
}
