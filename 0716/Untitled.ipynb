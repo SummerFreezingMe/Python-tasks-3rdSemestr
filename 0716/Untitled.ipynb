{
 "cells": [
  {
   "cell_type": "markdown",
   "id": "283abd34",
   "metadata": {},
   "source": [
    "# Koch curve using jupyter and matplotlib\n"
   ]
  },
  {
   "cell_type": "markdown",
   "id": "321e62de",
   "metadata": {},
   "source": [
    " Импортируем необходимы модули:"
   ]
  },
  {
   "cell_type": "code",
   "execution_count": 1,
   "id": "b8c4f3a5",
   "metadata": {},
   "outputs": [],
   "source": [
    "import matplotlib.pyplot as plt\n",
    "import numpy as np\n",
    "import point as p"
   ]
  },
  {
   "cell_type": "markdown",
   "id": "b1d35580",
   "metadata": {},
   "source": [
    "Основная функция:\n",
    "n - глубина построенияя (если = 0, возвращаемся), \n",
    "p1 - стартовая точка, \n",
    "p2 - конечная точка, \n",
    "xx - массив значений x, \n",
    "yy - массив значений y"
   ]
  },
  {
   "cell_type": "code",
   "execution_count": 4,
   "id": "2b5c9517",
   "metadata": {},
   "outputs": [],
   "source": [
    "def koch_curve(n, p1, p2, xx, yy):\n",
    "    if n == 0:\n",
    "        return"
   ]
  },
  {
   "cell_type": "markdown",
   "id": "ffb289b1",
   "metadata": {},
   "source": [
    "Задаём три фрактальные точки"
   ]
  },
  {
   "cell_type": "code",
   "execution_count": 5,
   "id": "5ef610a4",
   "metadata": {},
   "outputs": [
    {
     "ename": "NameError",
     "evalue": "name 'p1' is not defined",
     "output_type": "error",
     "traceback": [
      "\u001b[1;31m---------------------------------------------------------------------------\u001b[0m",
      "\u001b[1;31mNameError\u001b[0m                                 Traceback (most recent call last)",
      "Input \u001b[1;32mIn [5]\u001b[0m, in \u001b[0;36m<cell line: 2>\u001b[1;34m()\u001b[0m\n\u001b[0;32m      1\u001b[0m theta \u001b[38;5;241m=\u001b[39m np\u001b[38;5;241m.\u001b[39mpi \u001b[38;5;241m/\u001b[39m \u001b[38;5;241m3\u001b[39m\n\u001b[1;32m----> 2\u001b[0m s \u001b[38;5;241m=\u001b[39m p\u001b[38;5;241m.\u001b[39mPoint(\u001b[43mp1\u001b[49m\u001b[38;5;241m.\u001b[39mx \u001b[38;5;241m+\u001b[39m (p2\u001b[38;5;241m.\u001b[39mx \u001b[38;5;241m-\u001b[39m p1\u001b[38;5;241m.\u001b[39mx) \u001b[38;5;241m/\u001b[39m \u001b[38;5;241m3\u001b[39m, p1\u001b[38;5;241m.\u001b[39my \u001b[38;5;241m+\u001b[39m (p2\u001b[38;5;241m.\u001b[39my \u001b[38;5;241m-\u001b[39m p1\u001b[38;5;241m.\u001b[39my) \u001b[38;5;241m/\u001b[39m \u001b[38;5;241m3\u001b[39m)\n\u001b[0;32m      3\u001b[0m t \u001b[38;5;241m=\u001b[39m p\u001b[38;5;241m.\u001b[39mPoint(p2\u001b[38;5;241m.\u001b[39mx \u001b[38;5;241m-\u001b[39m (p2\u001b[38;5;241m.\u001b[39mx \u001b[38;5;241m-\u001b[39m p1\u001b[38;5;241m.\u001b[39mx) \u001b[38;5;241m/\u001b[39m \u001b[38;5;241m3\u001b[39m, p2\u001b[38;5;241m.\u001b[39my \u001b[38;5;241m-\u001b[39m (p2\u001b[38;5;241m.\u001b[39my \u001b[38;5;241m-\u001b[39m p1\u001b[38;5;241m.\u001b[39my) \u001b[38;5;241m/\u001b[39m \u001b[38;5;241m3\u001b[39m)\n\u001b[0;32m      4\u001b[0m u \u001b[38;5;241m=\u001b[39m p\u001b[38;5;241m.\u001b[39mPoint(np\u001b[38;5;241m.\u001b[39mcos(theta) \u001b[38;5;241m*\u001b[39m (t\u001b[38;5;241m.\u001b[39mx \u001b[38;5;241m-\u001b[39m s\u001b[38;5;241m.\u001b[39mx) \u001b[38;5;241m-\u001b[39m np\u001b[38;5;241m.\u001b[39msin(theta) \u001b[38;5;241m*\u001b[39m (t\u001b[38;5;241m.\u001b[39my \u001b[38;5;241m-\u001b[39m s\u001b[38;5;241m.\u001b[39my) \u001b[38;5;241m+\u001b[39m s\u001b[38;5;241m.\u001b[39mx,\n\u001b[0;32m      5\u001b[0m             np\u001b[38;5;241m.\u001b[39msin(theta) \u001b[38;5;241m*\u001b[39m (t\u001b[38;5;241m.\u001b[39mx \u001b[38;5;241m-\u001b[39m s\u001b[38;5;241m.\u001b[39mx) \u001b[38;5;241m+\u001b[39m np\u001b[38;5;241m.\u001b[39mcos(theta) \u001b[38;5;241m*\u001b[39m (t\u001b[38;5;241m.\u001b[39my \u001b[38;5;241m-\u001b[39m s\u001b[38;5;241m.\u001b[39my) \u001b[38;5;241m+\u001b[39m s\u001b[38;5;241m.\u001b[39my)\n",
      "\u001b[1;31mNameError\u001b[0m: name 'p1' is not defined"
     ]
    }
   ],
   "source": [
    "theta = np.pi / 3\n",
    "s = p.Point(p1.x + (p2.x - p1.x) / 3, p1.y + (p2.y - p1.y) / 3)\n",
    "t = p.Point(p2.x - (p2.x - p1.x) / 3, p2.y - (p2.y - p1.y) / 3)\n",
    "u = p.Point(np.cos(theta) * (t.x - s.x) - np.sin(theta) * (t.y - s.y) + s.x,\n",
    "            np.sin(theta) * (t.x - s.x) + np.cos(theta) * (t.y - s.y) + s.y)"
   ]
  },
  {
   "cell_type": "markdown",
   "id": "62d880bc",
   "metadata": {},
   "source": [
    "Вызываем функцию рекурсивно с редуцированной глубиной для каждого подотрезка, сгенерированного новыми точками\n",
    "Добавляем точки в соответствующие массивы"
   ]
  },
  {
   "cell_type": "code",
   "execution_count": null,
   "id": "bd0b49ea",
   "metadata": {},
   "outputs": [],
   "source": [
    "    koch_curve(n - 1, p1, s, xx, yy)\n",
    "    xx.append(s.x)\n",
    "    yy.append(s.y)\n",
    "\n",
    "    koch_curve(n - 1, s, u, xx, yy)\n",
    "    xx.append(u.x)\n",
    "    yy.append(u.y)\n",
    "\n",
    "    koch_curve(n - 1, u, t, xx, yy)\n",
    "    xx.append(t.x)\n",
    "    yy.append(t.y)\n",
    "    koch_curve(n - 1, t, p2, xx, yy)"
   ]
  },
  {
   "cell_type": "markdown",
   "id": "2eaa97f6",
   "metadata": {},
   "source": [
    "Функция возвращает список x и y кординат"
   ]
  },
  {
   "cell_type": "code",
   "execution_count": null,
   "id": "8f63b118",
   "metadata": {},
   "outputs": [],
   "source": [
    " return xx, yy"
   ]
  },
  {
   "cell_type": "markdown",
   "id": "fc35bf5d",
   "metadata": {},
   "source": [
    "Задаём начальные условия (точку старта, точку финиша, глубину рекурсии)"
   ]
  },
  {
   "cell_type": "code",
   "execution_count": 2,
   "id": "3e688878",
   "metadata": {},
   "outputs": [],
   "source": [
    "if __name__ == '__main__':\n",
    "    start, end = p.Point(0, 0), p.Point(100, 0)\n",
    "    n = int(4)"
   ]
  },
  {
   "cell_type": "markdown",
   "id": "10fb719e",
   "metadata": {},
   "source": [
    "Инициализируем массивы x и y координат, добавляем в них точку старта"
   ]
  },
  {
   "cell_type": "code",
   "execution_count": 3,
   "id": "c98178fc",
   "metadata": {
    "scrolled": true
   },
   "outputs": [],
   "source": [
    "x_points = []\n",
    "y_points = []\n",
    "x_points.append(start.x)\n",
    "y_points.append(start.y)"
   ]
  },
  {
   "cell_type": "markdown",
   "id": "e31d2ef1",
   "metadata": {},
   "source": [
    "Выполнение основной функции"
   ]
  },
  {
   "cell_type": "code",
   "execution_count": 4,
   "id": "4c7484ef",
   "metadata": {},
   "outputs": [
    {
     "ename": "NameError",
     "evalue": "name 'koch_curve' is not defined",
     "output_type": "error",
     "traceback": [
      "\u001b[1;31m---------------------------------------------------------------------------\u001b[0m",
      "\u001b[1;31mNameError\u001b[0m                                 Traceback (most recent call last)",
      "Input \u001b[1;32mIn [4]\u001b[0m, in \u001b[0;36m<cell line: 1>\u001b[1;34m()\u001b[0m\n\u001b[1;32m----> 1\u001b[0m nxx, nyy \u001b[38;5;241m=\u001b[39m \u001b[43mkoch_curve\u001b[49m(n, start, end, x_points, y_points)\n\u001b[0;32m      2\u001b[0m nxx\u001b[38;5;241m.\u001b[39mappend(end\u001b[38;5;241m.\u001b[39mx)\n\u001b[0;32m      3\u001b[0m nyy\u001b[38;5;241m.\u001b[39mappend(end\u001b[38;5;241m.\u001b[39my)\n",
      "\u001b[1;31mNameError\u001b[0m: name 'koch_curve' is not defined"
     ]
    }
   ],
   "source": [
    "nxx, nyy = koch_curve(n, start, end, x_points, y_points)\n",
    "nxx.append(end.x)\n",
    "nyy.append(end.y)"
   ]
  },
  {
   "cell_type": "markdown",
   "id": "98f9e927",
   "metadata": {},
   "source": [
    "Отрисовка графика по найдённым точкам"
   ]
  },
  {
   "cell_type": "code",
   "execution_count": null,
   "id": "2229a605",
   "metadata": {},
   "outputs": [],
   "source": [
    "ax = plt.subplot(111)\n",
    "ax.set(xlim=[0, 100], ylim=[0, 80])\n",
    "plot_dictionary = {'dx': nxx, 'dy': nyy}\n",
    "ax.plot('dx', 'dy', 'b', data=plot_dictionary)\n",
    "plt.show()"
   ]
  },
  {
   "cell_type": "code",
   "execution_count": null,
   "id": "26472103",
   "metadata": {},
   "outputs": [],
   "source": []
  }
 ],
 "metadata": {
  "kernelspec": {
   "display_name": "Python 3 (ipykernel)",
   "language": "python",
   "name": "python3"
  },
  "language_info": {
   "codemirror_mode": {
    "name": "ipython",
    "version": 3
   },
   "file_extension": ".py",
   "mimetype": "text/x-python",
   "name": "python",
   "nbconvert_exporter": "python",
   "pygments_lexer": "ipython3",
   "version": "3.9.7"
  }
 },
 "nbformat": 4,
 "nbformat_minor": 5
}
